{
 "cells": [
  {
   "cell_type": "markdown",
   "metadata": {},
   "source": [
    "# Mukesh Kumar Sanodiya (14-Jan-2019)\n"
   ]
  },
  {
   "cell_type": "markdown",
   "metadata": {},
   "source": [
    "# 8.PANDAS SQL 1 & SQL 2-Assignment-1"
   ]
  },
  {
   "cell_type": "markdown",
   "metadata": {},
   "source": [
    "# Problem Statement\n",
    "Read the following data set:\n",
    "https://archive.ics.uci.edu/ml/machine-learning-databases/adult/\n",
    "\n",
    "Rename the columns as per the description from this file:\n",
    "https://archive.ics.uci.edu/ml/machine-learning-databases/adult/adult.names"
   ]
  },
  {
   "cell_type": "code",
   "execution_count": 2,
   "metadata": {},
   "outputs": [
    {
     "data": {
      "text/html": [
       "<div>\n",
       "<style scoped>\n",
       "    .dataframe tbody tr th:only-of-type {\n",
       "        vertical-align: middle;\n",
       "    }\n",
       "\n",
       "    .dataframe tbody tr th {\n",
       "        vertical-align: top;\n",
       "    }\n",
       "\n",
       "    .dataframe thead th {\n",
       "        text-align: right;\n",
       "    }\n",
       "</style>\n",
       "<table border=\"1\" class=\"dataframe\">\n",
       "  <thead>\n",
       "    <tr style=\"text-align: right;\">\n",
       "      <th></th>\n",
       "      <th>39</th>\n",
       "      <th>State-gov</th>\n",
       "      <th>77516</th>\n",
       "      <th>Bachelors</th>\n",
       "      <th>13</th>\n",
       "      <th>Never-married</th>\n",
       "      <th>Adm-clerical</th>\n",
       "      <th>Not-in-family</th>\n",
       "      <th>White</th>\n",
       "      <th>Male</th>\n",
       "      <th>2174</th>\n",
       "      <th>0</th>\n",
       "      <th>40</th>\n",
       "      <th>United-States</th>\n",
       "      <th>&lt;=50K</th>\n",
       "    </tr>\n",
       "  </thead>\n",
       "  <tbody>\n",
       "    <tr>\n",
       "      <th>0</th>\n",
       "      <td>50</td>\n",
       "      <td>Self-emp-not-inc</td>\n",
       "      <td>83311</td>\n",
       "      <td>Bachelors</td>\n",
       "      <td>13</td>\n",
       "      <td>Married-civ-spouse</td>\n",
       "      <td>Exec-managerial</td>\n",
       "      <td>Husband</td>\n",
       "      <td>White</td>\n",
       "      <td>Male</td>\n",
       "      <td>0</td>\n",
       "      <td>0</td>\n",
       "      <td>13</td>\n",
       "      <td>United-States</td>\n",
       "      <td>&lt;=50K</td>\n",
       "    </tr>\n",
       "    <tr>\n",
       "      <th>1</th>\n",
       "      <td>38</td>\n",
       "      <td>Private</td>\n",
       "      <td>215646</td>\n",
       "      <td>HS-grad</td>\n",
       "      <td>9</td>\n",
       "      <td>Divorced</td>\n",
       "      <td>Handlers-cleaners</td>\n",
       "      <td>Not-in-family</td>\n",
       "      <td>White</td>\n",
       "      <td>Male</td>\n",
       "      <td>0</td>\n",
       "      <td>0</td>\n",
       "      <td>40</td>\n",
       "      <td>United-States</td>\n",
       "      <td>&lt;=50K</td>\n",
       "    </tr>\n",
       "    <tr>\n",
       "      <th>2</th>\n",
       "      <td>53</td>\n",
       "      <td>Private</td>\n",
       "      <td>234721</td>\n",
       "      <td>11th</td>\n",
       "      <td>7</td>\n",
       "      <td>Married-civ-spouse</td>\n",
       "      <td>Handlers-cleaners</td>\n",
       "      <td>Husband</td>\n",
       "      <td>Black</td>\n",
       "      <td>Male</td>\n",
       "      <td>0</td>\n",
       "      <td>0</td>\n",
       "      <td>40</td>\n",
       "      <td>United-States</td>\n",
       "      <td>&lt;=50K</td>\n",
       "    </tr>\n",
       "    <tr>\n",
       "      <th>3</th>\n",
       "      <td>28</td>\n",
       "      <td>Private</td>\n",
       "      <td>338409</td>\n",
       "      <td>Bachelors</td>\n",
       "      <td>13</td>\n",
       "      <td>Married-civ-spouse</td>\n",
       "      <td>Prof-specialty</td>\n",
       "      <td>Wife</td>\n",
       "      <td>Black</td>\n",
       "      <td>Female</td>\n",
       "      <td>0</td>\n",
       "      <td>0</td>\n",
       "      <td>40</td>\n",
       "      <td>Cuba</td>\n",
       "      <td>&lt;=50K</td>\n",
       "    </tr>\n",
       "    <tr>\n",
       "      <th>4</th>\n",
       "      <td>37</td>\n",
       "      <td>Private</td>\n",
       "      <td>284582</td>\n",
       "      <td>Masters</td>\n",
       "      <td>14</td>\n",
       "      <td>Married-civ-spouse</td>\n",
       "      <td>Exec-managerial</td>\n",
       "      <td>Wife</td>\n",
       "      <td>White</td>\n",
       "      <td>Female</td>\n",
       "      <td>0</td>\n",
       "      <td>0</td>\n",
       "      <td>40</td>\n",
       "      <td>United-States</td>\n",
       "      <td>&lt;=50K</td>\n",
       "    </tr>\n",
       "  </tbody>\n",
       "</table>\n",
       "</div>"
      ],
      "text/plain": [
       "   39          State-gov   77516   Bachelors   13        Never-married  \\\n",
       "0  50   Self-emp-not-inc   83311   Bachelors   13   Married-civ-spouse   \n",
       "1  38            Private  215646     HS-grad    9             Divorced   \n",
       "2  53            Private  234721        11th    7   Married-civ-spouse   \n",
       "3  28            Private  338409   Bachelors   13   Married-civ-spouse   \n",
       "4  37            Private  284582     Masters   14   Married-civ-spouse   \n",
       "\n",
       "         Adm-clerical   Not-in-family   White     Male   2174   0   40  \\\n",
       "0     Exec-managerial         Husband   White     Male      0   0   13   \n",
       "1   Handlers-cleaners   Not-in-family   White     Male      0   0   40   \n",
       "2   Handlers-cleaners         Husband   Black     Male      0   0   40   \n",
       "3      Prof-specialty            Wife   Black   Female      0   0   40   \n",
       "4     Exec-managerial            Wife   White   Female      0   0   40   \n",
       "\n",
       "    United-States   <=50K  \n",
       "0   United-States   <=50K  \n",
       "1   United-States   <=50K  \n",
       "2   United-States   <=50K  \n",
       "3            Cuba   <=50K  \n",
       "4   United-States   <=50K  "
      ]
     },
     "execution_count": 2,
     "metadata": {},
     "output_type": "execute_result"
    }
   ],
   "source": [
    "import pandas as pd\n",
    "AD_df = pd.read_csv('https://archive.ics.uci.edu/ml/machine-learning-databases/adult/adult.data')\n",
    "AD_df.head(5)"
   ]
  },
  {
   "cell_type": "markdown",
   "metadata": {},
   "source": [
    "# Rename Columns"
   ]
  },
  {
   "cell_type": "code",
   "execution_count": 4,
   "metadata": {},
   "outputs": [
    {
     "data": {
      "text/html": [
       "<div>\n",
       "<style scoped>\n",
       "    .dataframe tbody tr th:only-of-type {\n",
       "        vertical-align: middle;\n",
       "    }\n",
       "\n",
       "    .dataframe tbody tr th {\n",
       "        vertical-align: top;\n",
       "    }\n",
       "\n",
       "    .dataframe thead th {\n",
       "        text-align: right;\n",
       "    }\n",
       "</style>\n",
       "<table border=\"1\" class=\"dataframe\">\n",
       "  <thead>\n",
       "    <tr style=\"text-align: right;\">\n",
       "      <th></th>\n",
       "      <th>Age</th>\n",
       "      <th>WorkClass</th>\n",
       "      <th>SomeNumer</th>\n",
       "      <th>Education</th>\n",
       "      <th>Education_Number</th>\n",
       "      <th>Marital_Status</th>\n",
       "      <th>Occupation</th>\n",
       "      <th>Relationship</th>\n",
       "      <th>Race</th>\n",
       "      <th>Sex</th>\n",
       "      <th>Capital_Gain</th>\n",
       "      <th>Capital_Loss</th>\n",
       "      <th>Hours_Per_Week</th>\n",
       "      <th>Native_Country</th>\n",
       "      <th>Income</th>\n",
       "    </tr>\n",
       "  </thead>\n",
       "  <tbody>\n",
       "    <tr>\n",
       "      <th>0</th>\n",
       "      <td>50</td>\n",
       "      <td>Self-emp-not-inc</td>\n",
       "      <td>83311</td>\n",
       "      <td>Bachelors</td>\n",
       "      <td>13</td>\n",
       "      <td>Married-civ-spouse</td>\n",
       "      <td>Exec-managerial</td>\n",
       "      <td>Husband</td>\n",
       "      <td>White</td>\n",
       "      <td>Male</td>\n",
       "      <td>0</td>\n",
       "      <td>0</td>\n",
       "      <td>13</td>\n",
       "      <td>United-States</td>\n",
       "      <td>&lt;=50K</td>\n",
       "    </tr>\n",
       "    <tr>\n",
       "      <th>1</th>\n",
       "      <td>38</td>\n",
       "      <td>Private</td>\n",
       "      <td>215646</td>\n",
       "      <td>HS-grad</td>\n",
       "      <td>9</td>\n",
       "      <td>Divorced</td>\n",
       "      <td>Handlers-cleaners</td>\n",
       "      <td>Not-in-family</td>\n",
       "      <td>White</td>\n",
       "      <td>Male</td>\n",
       "      <td>0</td>\n",
       "      <td>0</td>\n",
       "      <td>40</td>\n",
       "      <td>United-States</td>\n",
       "      <td>&lt;=50K</td>\n",
       "    </tr>\n",
       "    <tr>\n",
       "      <th>2</th>\n",
       "      <td>53</td>\n",
       "      <td>Private</td>\n",
       "      <td>234721</td>\n",
       "      <td>11th</td>\n",
       "      <td>7</td>\n",
       "      <td>Married-civ-spouse</td>\n",
       "      <td>Handlers-cleaners</td>\n",
       "      <td>Husband</td>\n",
       "      <td>Black</td>\n",
       "      <td>Male</td>\n",
       "      <td>0</td>\n",
       "      <td>0</td>\n",
       "      <td>40</td>\n",
       "      <td>United-States</td>\n",
       "      <td>&lt;=50K</td>\n",
       "    </tr>\n",
       "    <tr>\n",
       "      <th>3</th>\n",
       "      <td>28</td>\n",
       "      <td>Private</td>\n",
       "      <td>338409</td>\n",
       "      <td>Bachelors</td>\n",
       "      <td>13</td>\n",
       "      <td>Married-civ-spouse</td>\n",
       "      <td>Prof-specialty</td>\n",
       "      <td>Wife</td>\n",
       "      <td>Black</td>\n",
       "      <td>Female</td>\n",
       "      <td>0</td>\n",
       "      <td>0</td>\n",
       "      <td>40</td>\n",
       "      <td>Cuba</td>\n",
       "      <td>&lt;=50K</td>\n",
       "    </tr>\n",
       "    <tr>\n",
       "      <th>4</th>\n",
       "      <td>37</td>\n",
       "      <td>Private</td>\n",
       "      <td>284582</td>\n",
       "      <td>Masters</td>\n",
       "      <td>14</td>\n",
       "      <td>Married-civ-spouse</td>\n",
       "      <td>Exec-managerial</td>\n",
       "      <td>Wife</td>\n",
       "      <td>White</td>\n",
       "      <td>Female</td>\n",
       "      <td>0</td>\n",
       "      <td>0</td>\n",
       "      <td>40</td>\n",
       "      <td>United-States</td>\n",
       "      <td>&lt;=50K</td>\n",
       "    </tr>\n",
       "    <tr>\n",
       "      <th>5</th>\n",
       "      <td>49</td>\n",
       "      <td>Private</td>\n",
       "      <td>160187</td>\n",
       "      <td>9th</td>\n",
       "      <td>5</td>\n",
       "      <td>Married-spouse-absent</td>\n",
       "      <td>Other-service</td>\n",
       "      <td>Not-in-family</td>\n",
       "      <td>Black</td>\n",
       "      <td>Female</td>\n",
       "      <td>0</td>\n",
       "      <td>0</td>\n",
       "      <td>16</td>\n",
       "      <td>Jamaica</td>\n",
       "      <td>&lt;=50K</td>\n",
       "    </tr>\n",
       "  </tbody>\n",
       "</table>\n",
       "</div>"
      ],
      "text/plain": [
       "   Age          WorkClass  SomeNumer   Education  Education_Number  \\\n",
       "0   50   Self-emp-not-inc      83311   Bachelors                13   \n",
       "1   38            Private     215646     HS-grad                 9   \n",
       "2   53            Private     234721        11th                 7   \n",
       "3   28            Private     338409   Bachelors                13   \n",
       "4   37            Private     284582     Masters                14   \n",
       "5   49            Private     160187         9th                 5   \n",
       "\n",
       "           Marital_Status          Occupation    Relationship    Race  \\\n",
       "0      Married-civ-spouse     Exec-managerial         Husband   White   \n",
       "1                Divorced   Handlers-cleaners   Not-in-family   White   \n",
       "2      Married-civ-spouse   Handlers-cleaners         Husband   Black   \n",
       "3      Married-civ-spouse      Prof-specialty            Wife   Black   \n",
       "4      Married-civ-spouse     Exec-managerial            Wife   White   \n",
       "5   Married-spouse-absent       Other-service   Not-in-family   Black   \n",
       "\n",
       "       Sex  Capital_Gain  Capital_Loss  Hours_Per_Week  Native_Country  Income  \n",
       "0     Male             0             0              13   United-States   <=50K  \n",
       "1     Male             0             0              40   United-States   <=50K  \n",
       "2     Male             0             0              40   United-States   <=50K  \n",
       "3   Female             0             0              40            Cuba   <=50K  \n",
       "4   Female             0             0              40   United-States   <=50K  \n",
       "5   Female             0             0              16         Jamaica   <=50K  "
      ]
     },
     "execution_count": 4,
     "metadata": {},
     "output_type": "execute_result"
    }
   ],
   "source": [
    "AD_df.columns =[\"Age\",\"WorkClass\",\"SomeNumer\",\"Education\",\"Education_Number\",\"Marital_Status\"\n",
    "                ,\"Occupation\",\"Relationship\",\"Race\",\"Sex\",\"Capital_Gain\",\"Capital_Loss\",\"Hours_Per_Week\",\n",
    "                \"Native_Country\",\"Income\"]\n",
    "AD_df.head(6)"
   ]
  },
  {
   "cell_type": "markdown",
   "metadata": {},
   "source": [
    "# Task: Create a sql db from adult dataset and name it sqladb"
   ]
  },
  {
   "cell_type": "code",
   "execution_count": 5,
   "metadata": {},
   "outputs": [
    {
     "name": "stdout",
     "output_type": "stream",
     "text": [
      "2019-01-16 23:22:02,245 INFO sqlalchemy.engine.base.Engine SELECT CAST('test plain returns' AS VARCHAR(60)) AS anon_1\n",
      "2019-01-16 23:22:02,245 INFO sqlalchemy.engine.base.Engine ()\n",
      "2019-01-16 23:22:02,260 INFO sqlalchemy.engine.base.Engine SELECT CAST('test unicode returns' AS VARCHAR(60)) AS anon_1\n",
      "2019-01-16 23:22:02,276 INFO sqlalchemy.engine.base.Engine ()\n",
      "2019-01-16 23:22:02,291 INFO sqlalchemy.engine.base.Engine PRAGMA table_info(\"sqladb\")\n",
      "2019-01-16 23:22:02,291 INFO sqlalchemy.engine.base.Engine ()\n",
      "2019-01-16 23:22:02,323 INFO sqlalchemy.engine.base.Engine \n",
      "CREATE TABLE sqladb (\n",
      "\t\"index\" BIGINT, \n",
      "\t\"Age\" BIGINT, \n",
      "\t\"WorkClass\" TEXT, \n",
      "\t\"SomeNumer\" BIGINT, \n",
      "\t\"Education\" TEXT, \n",
      "\t\"Education_Number\" BIGINT, \n",
      "\t\"Marital_Status\" TEXT, \n",
      "\t\"Occupation\" TEXT, \n",
      "\t\"Relationship\" TEXT, \n",
      "\t\"Race\" TEXT, \n",
      "\t\"Sex\" TEXT, \n",
      "\t\"Capital_Gain\" BIGINT, \n",
      "\t\"Capital_Loss\" BIGINT, \n",
      "\t\"Hours_Per_Week\" BIGINT, \n",
      "\t\"Native_Country\" TEXT, \n",
      "\t\"Income\" TEXT\n",
      ")\n",
      "\n",
      "\n",
      "2019-01-16 23:22:02,338 INFO sqlalchemy.engine.base.Engine ()\n",
      "2019-01-16 23:22:02,463 INFO sqlalchemy.engine.base.Engine COMMIT\n",
      "2019-01-16 23:22:02,479 INFO sqlalchemy.engine.base.Engine CREATE INDEX ix_sqladb_index ON sqladb (\"index\")\n",
      "2019-01-16 23:22:02,479 INFO sqlalchemy.engine.base.Engine ()\n",
      "2019-01-16 23:22:02,589 INFO sqlalchemy.engine.base.Engine COMMIT\n",
      "2019-01-16 23:22:02,683 INFO sqlalchemy.engine.base.Engine BEGIN (implicit)\n",
      "2019-01-16 23:22:04,447 INFO sqlalchemy.engine.base.Engine INSERT INTO sqladb (\"index\", \"Age\", \"WorkClass\", \"SomeNumer\", \"Education\", \"Education_Number\", \"Marital_Status\", \"Occupation\", \"Relationship\", \"Race\", \"Sex\", \"Capital_Gain\", \"Capital_Loss\", \"Hours_Per_Week\", \"Native_Country\", \"Income\") VALUES (?, ?, ?, ?, ?, ?, ?, ?, ?, ?, ?, ?, ?, ?, ?, ?)\n",
      "2019-01-16 23:22:04,447 INFO sqlalchemy.engine.base.Engine ((0, 50, ' Self-emp-not-inc', 83311, ' Bachelors', 13, ' Married-civ-spouse', ' Exec-managerial', ' Husband', ' White', ' Male', 0, 0, 13, ' United-States', ' <=50K'), (1, 38, ' Private', 215646, ' HS-grad', 9, ' Divorced', ' Handlers-cleaners', ' Not-in-family', ' White', ' Male', 0, 0, 40, ' United-States', ' <=50K'), (2, 53, ' Private', 234721, ' 11th', 7, ' Married-civ-spouse', ' Handlers-cleaners', ' Husband', ' Black', ' Male', 0, 0, 40, ' United-States', ' <=50K'), (3, 28, ' Private', 338409, ' Bachelors', 13, ' Married-civ-spouse', ' Prof-specialty', ' Wife', ' Black', ' Female', 0, 0, 40, ' Cuba', ' <=50K'), (4, 37, ' Private', 284582, ' Masters', 14, ' Married-civ-spouse', ' Exec-managerial', ' Wife', ' White', ' Female', 0, 0, 40, ' United-States', ' <=50K'), (5, 49, ' Private', 160187, ' 9th', 5, ' Married-spouse-absent', ' Other-service', ' Not-in-family', ' Black', ' Female', 0, 0, 16, ' Jamaica', ' <=50K'), (6, 52, ' Self-emp-not-inc', 209642, ' HS-grad', 9, ' Married-civ-spouse', ' Exec-managerial', ' Husband', ' White', ' Male', 0, 0, 45, ' United-States', ' >50K'), (7, 31, ' Private', 45781, ' Masters', 14, ' Never-married', ' Prof-specialty', ' Not-in-family', ' White', ' Female', 14084, 0, 50, ' United-States', ' >50K')  ... displaying 10 of 32560 total bound parameter sets ...  (32558, 22, ' Private', 201490, ' HS-grad', 9, ' Never-married', ' Adm-clerical', ' Own-child', ' White', ' Male', 0, 0, 20, ' United-States', ' <=50K'), (32559, 52, ' Self-emp-inc', 287927, ' HS-grad', 9, ' Married-civ-spouse', ' Exec-managerial', ' Wife', ' White', ' Female', 15024, 0, 40, ' United-States', ' >50K'))\n",
      "2019-01-16 23:22:05,197 INFO sqlalchemy.engine.base.Engine COMMIT\n"
     ]
    }
   ],
   "source": [
    "import sqlalchemy\n",
    "from sqlalchemy import create_engine\n",
    "\n",
    "engine = create_engine('sqlite:///sqladb', echo=True)\n",
    "AD_df.to_sql('sqladb', engine, if_exists='replace')"
   ]
  },
  {
   "cell_type": "markdown",
   "metadata": {},
   "source": [
    "# Q1. Select 10 records from the adult sqladb"
   ]
  },
  {
   "cell_type": "code",
   "execution_count": 8,
   "metadata": {},
   "outputs": [
    {
     "name": "stdout",
     "output_type": "stream",
     "text": [
      "   index  Age          WorkClass  SomeNumer      Education  Education_Number  \\\n",
      "0      0   50   Self-emp-not-inc      83311      Bachelors                13   \n",
      "1      1   38            Private     215646        HS-grad                 9   \n",
      "2      2   53            Private     234721           11th                 7   \n",
      "3      3   28            Private     338409      Bachelors                13   \n",
      "4      4   37            Private     284582        Masters                14   \n",
      "5      5   49            Private     160187            9th                 5   \n",
      "6      6   52   Self-emp-not-inc     209642        HS-grad                 9   \n",
      "7      7   31            Private      45781        Masters                14   \n",
      "8      8   42            Private     159449      Bachelors                13   \n",
      "9      9   37            Private     280464   Some-college                10   \n",
      "\n",
      "           Marital_Status          Occupation    Relationship    Race  \\\n",
      "0      Married-civ-spouse     Exec-managerial         Husband   White   \n",
      "1                Divorced   Handlers-cleaners   Not-in-family   White   \n",
      "2      Married-civ-spouse   Handlers-cleaners         Husband   Black   \n",
      "3      Married-civ-spouse      Prof-specialty            Wife   Black   \n",
      "4      Married-civ-spouse     Exec-managerial            Wife   White   \n",
      "5   Married-spouse-absent       Other-service   Not-in-family   Black   \n",
      "6      Married-civ-spouse     Exec-managerial         Husband   White   \n",
      "7           Never-married      Prof-specialty   Not-in-family   White   \n",
      "8      Married-civ-spouse     Exec-managerial         Husband   White   \n",
      "9      Married-civ-spouse     Exec-managerial         Husband   Black   \n",
      "\n",
      "       Sex  Capital_Gain  Capital_Loss  Hours_Per_Week  Native_Country  Income  \n",
      "0     Male             0             0              13   United-States   <=50K  \n",
      "1     Male             0             0              40   United-States   <=50K  \n",
      "2     Male             0             0              40   United-States   <=50K  \n",
      "3   Female             0             0              40            Cuba   <=50K  \n",
      "4   Female             0             0              40   United-States   <=50K  \n",
      "5   Female             0             0              16         Jamaica   <=50K  \n",
      "6     Male             0             0              45   United-States    >50K  \n",
      "7   Female         14084             0              50   United-States    >50K  \n",
      "8     Male          5178             0              40   United-States    >50K  \n",
      "9     Male             0             0              80   United-States    >50K  \n"
     ]
    }
   ],
   "source": [
    "import sqlite3\n",
    "connection = sqlite3.connect(\"sqladb\")\n",
    "cursor = connection.cursor()\n",
    "print(pd.read_sql_query('SELECT * FROM sqladb limit 10', connection))"
   ]
  },
  {
   "cell_type": "markdown",
   "metadata": {},
   "source": [
    "# Q2. Show me the average hours per week of all men who are working in private sector"
   ]
  },
  {
   "cell_type": "code",
   "execution_count": 11,
   "metadata": {},
   "outputs": [
    {
     "name": "stdout",
     "output_type": "stream",
     "text": [
      "Average Hours Per week of all Men who are working in Private Sector is :  [(40.267095523440254,)]\n"
     ]
    }
   ],
   "source": [
    "cursor.execute('SELECT avg(Hours_Per_Week) FROM sqladb WHERE workclass=\" Private\"')\n",
    "output = cursor.fetchall()\n",
    "print(\"Average Hours Per week of all Men who are working in Private Sector is : \",output)"
   ]
  },
  {
   "cell_type": "markdown",
   "metadata": {},
   "source": [
    "# Q3. Show me the frequency table for education, occupation and relationship, separately"
   ]
  },
  {
   "cell_type": "code",
   "execution_count": 12,
   "metadata": {},
   "outputs": [
    {
     "name": "stdout",
     "output_type": "stream",
     "text": [
      "[(' 10th', 933), (' 11th', 1175), (' 12th', 433), (' 1st-4th', 168), (' 5th-6th', 333), (' 7th-8th', 646), (' 9th', 514), (' Assoc-acdm', 1067), (' Assoc-voc', 1382), (' Bachelors', 5354), (' Doctorate', 413), (' HS-grad', 10501), (' Masters', 1723), (' Preschool', 51), (' Prof-school', 576), (' Some-college', 7291)]\n"
     ]
    }
   ],
   "source": [
    "cursor.execute('SELECT Education, COUNT(*) FROM sqladb GROUP BY Education')\n",
    "output = cursor.fetchall()\n",
    "print(output)"
   ]
  },
  {
   "cell_type": "code",
   "execution_count": 13,
   "metadata": {},
   "outputs": [
    {
     "name": "stdout",
     "output_type": "stream",
     "text": [
      "[(' ?', 1843), (' Adm-clerical', 3769), (' Armed-Forces', 9), (' Craft-repair', 4099), (' Exec-managerial', 4066), (' Farming-fishing', 994), (' Handlers-cleaners', 1370), (' Machine-op-inspct', 2002), (' Other-service', 3295), (' Priv-house-serv', 149), (' Prof-specialty', 4140), (' Protective-serv', 649), (' Sales', 3650), (' Tech-support', 928), (' Transport-moving', 1597)]\n"
     ]
    }
   ],
   "source": [
    "cursor.execute('SELECT Occupation, COUNT(*) FROM sqladb GROUP BY Occupation')\n",
    "output = cursor.fetchall()\n",
    "print(output)"
   ]
  },
  {
   "cell_type": "code",
   "execution_count": 14,
   "metadata": {},
   "outputs": [
    {
     "name": "stdout",
     "output_type": "stream",
     "text": [
      "[(' Husband', 13193), (' Not-in-family', 8304), (' Other-relative', 981), (' Own-child', 5068), (' Unmarried', 3446), (' Wife', 1568)]\n"
     ]
    }
   ],
   "source": [
    "cursor.execute('SELECT Relationship, COUNT(*) FROM sqladb GROUP BY Relationship')\n",
    "output = cursor.fetchall()\n",
    "print(output)"
   ]
  },
  {
   "cell_type": "markdown",
   "metadata": {},
   "source": [
    "# Q4. Are there any people who are married, working in private sector and having a masters degree"
   ]
  },
  {
   "cell_type": "code",
   "execution_count": 15,
   "metadata": {},
   "outputs": [
    {
     "name": "stdout",
     "output_type": "stream",
     "text": [
      "   index  Age WorkClass  SomeNumer Education  Education_Number  \\\n",
      "0      4   37   Private     284582   Masters                14   \n",
      "1     86   33   Private     202051   Masters                14   \n",
      "2     99   76   Private     124191   Masters                14   \n",
      "3    187   31   Private      99928   Masters                14   \n",
      "4    197   35   Private     138992   Masters                14   \n",
      "5    310   34   Private     142897   Masters                14   \n",
      "6    360   62   Private     270092   Masters                14   \n",
      "7    404   41   Private     445382   Masters                14   \n",
      "8    434   33   Private     208405   Masters                14   \n",
      "9    467   49   Private     192776   Masters                14   \n",
      "\n",
      "        Marital_Status        Occupation     Relationship  \\\n",
      "0   Married-civ-spouse   Exec-managerial             Wife   \n",
      "1   Married-civ-spouse    Prof-specialty          Husband   \n",
      "2   Married-civ-spouse   Exec-managerial          Husband   \n",
      "3   Married-civ-spouse    Prof-specialty             Wife   \n",
      "4   Married-civ-spouse    Prof-specialty   Other-relative   \n",
      "5   Married-civ-spouse   Exec-managerial          Husband   \n",
      "6   Married-civ-spouse    Prof-specialty          Husband   \n",
      "7   Married-civ-spouse   Exec-managerial          Husband   \n",
      "8   Married-civ-spouse    Prof-specialty          Husband   \n",
      "9   Married-civ-spouse   Exec-managerial          Husband   \n",
      "\n",
      "                  Race      Sex  Capital_Gain  Capital_Loss  Hours_Per_Week  \\\n",
      "0                White   Female             0             0              40   \n",
      "1                White     Male             0             0              50   \n",
      "2                White     Male             0             0              40   \n",
      "3                White   Female             0             0              50   \n",
      "4                White     Male          7298             0              40   \n",
      "5   Asian-Pac-Islander     Male          7298             0              35   \n",
      "6                White     Male             0             0              40   \n",
      "7                White     Male             0          1977              65   \n",
      "8                White     Male             0             0              50   \n",
      "9                White     Male             0          1977              45   \n",
      "\n",
      "   Native_Country  Income  \n",
      "0   United-States   <=50K  \n",
      "1   United-States   <=50K  \n",
      "2   United-States    >50K  \n",
      "3   United-States   <=50K  \n",
      "4   United-States    >50K  \n",
      "5          Taiwan    >50K  \n",
      "6   United-States    >50K  \n",
      "7   United-States    >50K  \n",
      "8   United-States    >50K  \n",
      "9   United-States    >50K  \n"
     ]
    }
   ],
   "source": [
    "print(pd.read_sql_query('SELECT * FROM sqladb WHERE Education=\" Masters\" AND WorkClass=\" Private\" AND Marital_Status=\" Married-civ-spouse\"',\n",
    "                        connection).head(10))"
   ]
  },
  {
   "cell_type": "markdown",
   "metadata": {},
   "source": [
    "# Q5. What is the average, minimum and maximum age group for people working in different sectors"
   ]
  },
  {
   "cell_type": "code",
   "execution_count": 17,
   "metadata": {},
   "outputs": [
    {
     "data": {
      "text/plain": [
       "[(' ?', 17, 90, 40.882799782962564),\n",
       " (' Adm-clerical', 17, 90, 36.96391615813213),\n",
       " (' Armed-Forces', 23, 46, 30.22222222222222),\n",
       " (' Craft-repair', 17, 90, 39.03147109050988),\n",
       " (' Exec-managerial', 17, 90, 42.16920806689621),\n",
       " (' Farming-fishing', 17, 90, 41.2112676056338),\n",
       " (' Handlers-cleaners', 17, 90, 32.16569343065694),\n",
       " (' Machine-op-inspct', 17, 90, 37.71528471528472),\n",
       " (' Other-service', 17, 90, 34.94962063732929),\n",
       " (' Priv-house-serv', 17, 81, 41.7248322147651),\n",
       " (' Prof-specialty', 17, 90, 40.51763285024155),\n",
       " (' Protective-serv', 17, 90, 38.9537750385208),\n",
       " (' Sales', 17, 90, 37.353972602739724),\n",
       " (' Tech-support', 17, 73, 37.022629310344826),\n",
       " (' Transport-moving', 17, 90, 40.19787100814026)]"
      ]
     },
     "metadata": {},
     "output_type": "display_data"
    }
   ],
   "source": [
    "cursor.execute('SELECT occupation, min(age),max(age),avg(age) FROM sqladb GROUP BY occupation')\n",
    "output = cursor.fetchall()\n",
    "display(output)"
   ]
  },
  {
   "cell_type": "markdown",
   "metadata": {},
   "source": [
    "# Q6. Calculate age distribution by country"
   ]
  },
  {
   "cell_type": "code",
   "execution_count": 18,
   "metadata": {},
   "outputs": [
    {
     "data": {
      "text/plain": [
       "[(' ?', 17, 90, 38.72555746140652),\n",
       " (' Cambodia', 18, 65, 37.78947368421053),\n",
       " (' Canada', 17, 80, 42.54545454545455),\n",
       " (' China', 22, 75, 42.53333333333333),\n",
       " (' Columbia', 18, 75, 39.71186440677966),\n",
       " (' Cuba', 21, 82, 45.76842105263158),\n",
       " (' Dominican-Republic', 18, 78, 37.72857142857143),\n",
       " (' Ecuador', 21, 90, 36.642857142857146),\n",
       " (' El-Salvador', 17, 79, 34.132075471698116),\n",
       " (' England', 17, 90, 41.15555555555556),\n",
       " (' France', 20, 64, 38.96551724137931),\n",
       " (' Germany', 18, 74, 39.25547445255474),\n",
       " (' Greece', 22, 65, 46.206896551724135),\n",
       " (' Guatemala', 19, 66, 32.421875),\n",
       " (' Haiti', 17, 63, 38.27272727272727),\n",
       " (' Holand-Netherlands', 32, 32, 32.0),\n",
       " (' Honduras', 18, 58, 33.84615384615385),\n",
       " (' Hong', 19, 60, 33.65),\n",
       " (' Hungary', 24, 81, 49.38461538461539),\n",
       " (' India', 17, 61, 38.09),\n",
       " (' Iran', 22, 63, 39.41860465116279),\n",
       " (' Ireland', 23, 68, 36.458333333333336),\n",
       " (' Italy', 19, 77, 46.42465753424658),\n",
       " (' Jamaica', 18, 66, 35.592592592592595),\n",
       " (' Japan', 19, 61, 38.24193548387097),\n",
       " (' Laos', 19, 56, 34.72222222222222),\n",
       " (' Mexico', 17, 81, 33.29082426127527),\n",
       " (' Nicaragua', 19, 67, 33.61764705882353),\n",
       " (' Outlying-US(Guam-USVI-etc)', 21, 63, 38.714285714285715),\n",
       " (' Peru', 17, 69, 35.25806451612903),\n",
       " (' Philippines', 17, 90, 39.44444444444444),\n",
       " (' Poland', 17, 85, 43.11666666666667),\n",
       " (' Portugal', 19, 78, 40.2972972972973),\n",
       " (' Puerto-Rico', 17, 90, 40.50877192982456),\n",
       " (' Scotland', 18, 62, 40.416666666666664),\n",
       " (' South', 19, 90, 38.75),\n",
       " (' Taiwan', 20, 61, 33.8235294117647),\n",
       " (' Thailand', 19, 55, 34.94444444444444),\n",
       " (' Trinadad&Tobago', 17, 61, 41.31578947368421),\n",
       " (' United-States', 17, 90, 38.65566183276766),\n",
       " (' Vietnam', 19, 73, 34.059701492537314),\n",
       " (' Yugoslavia', 20, 66, 38.8125)]"
      ]
     },
     "metadata": {},
     "output_type": "display_data"
    }
   ],
   "source": [
    "cursor.execute('SELECT Native_Country, min(age),max(age),avg(age) FROM sqladb GROUP BY Native_Country')\n",
    "output = cursor.fetchall()\n",
    "display(output)"
   ]
  },
  {
   "cell_type": "markdown",
   "metadata": {},
   "source": [
    "# Q7. Compute a new column as 'Net-Capital-Gain' from the two columns 'capital-gain' and 'capital-loss'"
   ]
  },
  {
   "cell_type": "code",
   "execution_count": 19,
   "metadata": {},
   "outputs": [
    {
     "data": {
      "text/plain": [
       "<sqlite3.Cursor at 0x3f7a810>"
      ]
     },
     "execution_count": 19,
     "metadata": {},
     "output_type": "execute_result"
    }
   ],
   "source": [
    "cursor.execute('UPDATE sqladb SET capital_gain=capital_gain-capital_loss')"
   ]
  },
  {
   "cell_type": "code",
   "execution_count": 20,
   "metadata": {},
   "outputs": [
    {
     "name": "stdout",
     "output_type": "stream",
     "text": [
      "   index  Age          WorkClass  SomeNumer   Education  Education_Number  \\\n",
      "0      0   50   Self-emp-not-inc      83311   Bachelors                13   \n",
      "1      1   38            Private     215646     HS-grad                 9   \n",
      "2      2   53            Private     234721        11th                 7   \n",
      "3      3   28            Private     338409   Bachelors                13   \n",
      "4      4   37            Private     284582     Masters                14   \n",
      "\n",
      "        Marital_Status          Occupation    Relationship    Race      Sex  \\\n",
      "0   Married-civ-spouse     Exec-managerial         Husband   White     Male   \n",
      "1             Divorced   Handlers-cleaners   Not-in-family   White     Male   \n",
      "2   Married-civ-spouse   Handlers-cleaners         Husband   Black     Male   \n",
      "3   Married-civ-spouse      Prof-specialty            Wife   Black   Female   \n",
      "4   Married-civ-spouse     Exec-managerial            Wife   White   Female   \n",
      "\n",
      "   Capital_Gain  Capital_Loss  Hours_Per_Week  Native_Country  Income  \n",
      "0             0             0              13   United-States   <=50K  \n",
      "1             0             0              40   United-States   <=50K  \n",
      "2             0             0              40   United-States   <=50K  \n",
      "3             0             0              40            Cuba   <=50K  \n",
      "4             0             0              40   United-States   <=50K  \n"
     ]
    }
   ],
   "source": [
    "print(pd.read_sql_query(\"SELECT * FROM sqladb\", connection).head(5))"
   ]
  },
  {
   "cell_type": "code",
   "execution_count": 21,
   "metadata": {},
   "outputs": [],
   "source": [
    "\n",
    "connection.close()\n"
   ]
  },
  {
   "cell_type": "code",
   "execution_count": null,
   "metadata": {},
   "outputs": [],
   "source": []
  }
 ],
 "metadata": {
  "kernelspec": {
   "display_name": "Python 3",
   "language": "python",
   "name": "python3"
  },
  "language_info": {
   "codemirror_mode": {
    "name": "ipython",
    "version": 3
   },
   "file_extension": ".py",
   "mimetype": "text/x-python",
   "name": "python",
   "nbconvert_exporter": "python",
   "pygments_lexer": "ipython3",
   "version": "3.7.0"
  }
 },
 "nbformat": 4,
 "nbformat_minor": 2
}
